{
 "cells": [
  {
   "cell_type": "code",
   "execution_count": 6,
   "metadata": {},
   "outputs": [
    {
     "name": "stdout",
     "output_type": "stream",
     "text": [
      "kits loaded?\n",
      "maps generatedVector{TrivialTensorMap{CartesianSpace, 2, 1, Matrix{Float64}}}\n",
      "┌ CL[4]: TensorMap(ℝ^2 ← ℝ^2)\n",
      "├── AL[3]: TensorMap((ℝ^3 ⊗ ℝ^3) ← ℝ^2)\n",
      "├── AL[2]: TensorMap((ℝ^5 ⊗ ℝ^8) ← ℝ^3)\n",
      "└── AL[1]: TensorMap((ℝ^6 ⊗ ℝ^3) ← ℝ^5)\n",
      "\n"
     ]
    }
   ],
   "source": [
    "using TensorKit\n",
    "using MPSKit\n",
    "\n",
    "println(\"kits loaded?\")\n",
    "data_array1 = rand(6,3,5)\n",
    "data_array2 = rand(5,8,3)\n",
    "data_array3 = rand(3,3,2)\n",
    "data = rand(3,3)\n",
    "\n",
    "\n",
    "\n",
    "\n",
    "\n",
    "tmap = TensorMap(data, ℝ^3, ℝ^3)\n",
    "tmap1 = TensorMap(data_array1, ℝ^6 ⊗ ℝ^3, ℝ^5)\n",
    "tmap2 = TensorMap(data_array2, ℝ^5 ⊗ ℝ^8, ℝ^3)\n",
    "tmap3 = TensorMap(data_array3, ℝ^3 ⊗ ℝ^3, ℝ^2)\n",
    "vec = [tmap1, tmap2, tmap3]\n",
    "println(\"maps generated\", typeof(vec))\n",
    "\n",
    "mps = FiniteMPS(vec)\n",
    "println(mps)"
   ]
  }
 ],
 "metadata": {
  "kernelspec": {
   "display_name": "Julia 1.9.3",
   "language": "julia",
   "name": "julia-1.9"
  },
  "language_info": {
   "file_extension": ".jl",
   "mimetype": "application/julia",
   "name": "julia",
   "version": "1.9.3"
  }
 },
 "nbformat": 4,
 "nbformat_minor": 2
}
