{
 "cells": [
  {
   "cell_type": "code",
   "execution_count": 21,
   "metadata": {},
   "outputs": [
    {
     "name": "stdout",
     "output_type": "stream",
     "text": [
      "kits loaded?\n",
      "┌ CL[4]: TensorMap(ℝ^7 ← ℝ^7)\n",
      "├── AL[3]: TensorMap((ℝ^3 ⊗ ℝ^3) ← ℝ^7)\n",
      "├── AL[2]: TensorMap((ℝ^3 ⊗ ℝ^3) ← ℝ^3)\n",
      "└── AL[1]: TensorMap((ℝ^1 ⊗ ℝ^3) ← ℝ^3)\n",
      "\n"
     ]
    }
   ],
   "source": [
    "using TensorKit\n",
    "using MPSKit\n",
    "\n",
    "println(\"kits loaded?\")\n",
    "data_array1 = rand(1,3,3)\n",
    "data_array2 = rand(3,3,3)\n",
    "data_array3 = rand(3,3,7)\n",
    "\n",
    "\n",
    "\n",
    "\n",
    "\n",
    "tmap1 = TensorMap(data_array1, ℝ^1 ⊗ ℝ^3, ℝ^3)\n",
    "tmap2 = TensorMap(data_array2, ℝ^3 ⊗ ℝ^3, ℝ^3)\n",
    "tmap3 = TensorMap(data_array3, ℝ^3 ⊗ ℝ^3, ℝ^7)\n",
    "vec = [tmap1, tmap2, tmap3]\n",
    "\n",
    "mps = FiniteMPS(vec)\n",
    "println(mps)"
   ]
  },
  {
   "cell_type": "code",
   "execution_count": 22,
   "metadata": {},
   "outputs": [],
   "source": [
    "#How to take out the different site tensors?\n",
    "for i in 1:length(mps)\n",
    "    data = mps.AL[i].data\n",
    "end"
   ]
  }
 ],
 "metadata": {
  "kernelspec": {
   "display_name": "Julia 1.9.3",
   "language": "julia",
   "name": "julia-1.9"
  },
  "language_info": {
   "file_extension": ".jl",
   "mimetype": "application/julia",
   "name": "julia",
   "version": "1.9.3"
  }
 },
 "nbformat": 4,
 "nbformat_minor": 2
}
