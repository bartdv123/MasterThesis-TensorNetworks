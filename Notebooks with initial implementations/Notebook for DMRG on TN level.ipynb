{
 "cells": [
  {
   "cell_type": "markdown",
   "metadata": {},
   "source": [
    "Notebook for implementing DMRG tree structure optimization on tensor network level. "
   ]
  },
  {
   "cell_type": "code",
   "execution_count": 1,
   "metadata": {},
   "outputs": [
    {
     "data": {
      "text/plain": [
       "edge_weights_update_DRMG_chi_max (generic function with 1 method)"
      ]
     },
     "metadata": {},
     "output_type": "display_data"
    }
   ],
   "source": [
    "# Add in the neccesary libraries and depedencies\n",
    "# First precompile takes more time -> Julia creates a underlying type-structure so that it can exploit the JIT feature\n",
    "using Plots\n",
    "using Makie\n",
    "using GraphMakie.NetworkLayout\n",
    "using CairoMakie\n",
    "using Tenet\n",
    "using TensorOperations\n",
    "using LinearAlgebra\n",
    "using Graphs\n",
    "using GraphPlot\n",
    "using EinExprs\n",
    "using Combinatorics\n",
    "using LaTeXStrings\n",
    "Makie.inline!(true)\n",
    "include(\"julia_functions.jl\")\n",
    "\n"
   ]
  },
  {
   "cell_type": "code",
   "execution_count": 2,
   "metadata": {},
   "outputs": [],
   "source": [
    "# Implement a frucht graph TN, try to selected a cycle to transform into DMRG approachable tree "
   ]
  }
 ],
 "metadata": {
  "kernelspec": {
   "display_name": "Julia 1.9.3",
   "language": "julia",
   "name": "julia-1.9"
  },
  "language_info": {
   "file_extension": ".jl",
   "mimetype": "application/julia",
   "name": "julia",
   "version": "1.9.3"
  }
 },
 "nbformat": 4,
 "nbformat_minor": 2
}
