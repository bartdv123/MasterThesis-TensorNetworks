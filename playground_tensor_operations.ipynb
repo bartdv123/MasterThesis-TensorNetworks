{
 "cells": [
  {
   "cell_type": "code",
   "execution_count": 1,
   "metadata": {},
   "outputs": [
    {
     "data": {
      "text/plain": [
       "true"
      ]
     },
     "metadata": {},
     "output_type": "display_data"
    }
   ],
   "source": [
    "#Adding the needed depedencies to the notebook\n",
    "using Makie\n",
    "using GLMakie\n",
    "using TensorOperations\n",
    "using TensorKit\n",
    "Makie.inline!(true)\n"
   ]
  },
  {
   "cell_type": "markdown",
   "metadata": {},
   "source": [
    "Generate two random tensors, one with size 2x2x2 and one with size 2x2: \\\n",
    "Combining them in a certain way allows one to compute different properties or compositions\n",
    "\n",
    "__note:__ \\\n",
    "The __@tensor__ macro can be used to either create new tensors, using the := assignment, or to copy data into existing tensors using =. In the latter case, the tensor must already exist and have the right dimensions, but less additional memory is allocated."
   ]
  },
  {
   "cell_type": "code",
   "execution_count": 3,
   "metadata": {},
   "outputs": [
    {
     "data": {
      "text/plain": [
       "((2, 2, 2, 2, 2), (2,), (2, 2, 2))"
      ]
     },
     "metadata": {},
     "output_type": "display_data"
    }
   ],
   "source": [
    "# Writing down some examples to refer to while playing with the TN - code\n",
    "\n",
    "A = rand(2, 2, 2)\n",
    "B = rand(2, 2)\n",
    "@tensor C[i, j, k, l, m] := A[i, j, k] * B[l, m] # outerproduct\n",
    "@tensor D[i] := A[i, j, j] # trace\n",
    "@tensor E[i, j, l] := A[i, j, k] * B[l, k] # innerproduct\n",
    "size(C), size(D), size(E)\n"
   ]
  },
  {
   "cell_type": "code",
   "execution_count": 5,
   "metadata": {},
   "outputs": [
    {
     "data": {
      "text/plain": [
       "2×2 Matrix{Float64}:\n",
       " 0.19569   0.611746\n",
       " 0.824087  0.999687"
      ]
     },
     "metadata": {},
     "output_type": "display_data"
    }
   ],
   "source": [
    "B = rand(2, 2, 2, 2)\n",
    "C = rand(2, 2, 2, 2, 2)\n",
    "D = rand(2, 2, 2)\n",
    "E = rand(2, 2)\n",
    "F = rand(2, 2)"
   ]
  },
  {
   "cell_type": "code",
   "execution_count": 6,
   "metadata": {},
   "outputs": [
    {
     "data": {
      "text/plain": [
       "2×2 Matrix{Float64}:\n",
       " 11.0025  8.28445\n",
       " 10.1911  7.82265"
      ]
     },
     "metadata": {},
     "output_type": "display_data"
    }
   ],
   "source": [
    "@tensor opt=true begin\n",
    "    A[i, j] := B[i, α, β, γ] * C[γ, ϵ, ζ, η, j] * D[β, δ, ϵ] * E[α, δ] * F[ζ, η]\n",
    "end"
   ]
  }
 ],
 "metadata": {
  "kernelspec": {
   "display_name": "Julia 1.9.3",
   "language": "julia",
   "name": "julia-1.9"
  },
  "language_info": {
   "file_extension": ".jl",
   "mimetype": "application/julia",
   "name": "julia",
   "version": "1.9.3"
  }
 },
 "nbformat": 4,
 "nbformat_minor": 2
}
