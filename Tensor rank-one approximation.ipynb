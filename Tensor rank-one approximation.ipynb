{
 "cells": [
  {
   "cell_type": "markdown",
   "metadata": {},
   "source": [
    "This notebook will be used to write code and investigate the accuracy of rank 1 tensor approximations using HOSVD?"
   ]
  },
  {
   "cell_type": "code",
   "execution_count": 36,
   "metadata": {},
   "outputs": [
    {
     "data": {
      "text/plain": [
       "generate_combinations (generic function with 1 method)"
      ]
     },
     "metadata": {},
     "output_type": "display_data"
    }
   ],
   "source": [
    "using Plots\n",
    "using Makie\n",
    "using GraphMakie.NetworkLayout\n",
    "using CairoMakie\n",
    "using Tenet\n",
    "using TensorOperations\n",
    "using LinearAlgebra\n",
    "using EinExprs\n",
    "using Combinatorics\n",
    "using LaTeXStrings\n",
    "Makie.inline!(true)\n",
    "include(\"julia_functions.jl\")"
   ]
  },
  {
   "attachments": {
    "image.png": {
     "image/png": "[encoded data removed]"
    }
   },
   "cell_type": "markdown",
   "metadata": {},
   "source": [
    "This function takes in a Tenet.Tensor and computes the best rank-one-approximation for this specific tensor.\n",
    "The best rank-one-approximation is defined is $T_{ijkl} = \\Omega U^i \\otimes U^j \\otimes U^k \\otimes U^l$. The functions return all the vectors $U^{index}$ and the constant $\\Omega$.\n",
    "\n",
    "![image.png](attachment:image.png)"
   ]
  },
  {
   "cell_type": "code",
   "execution_count": 37,
   "metadata": {},
   "outputs": [
    {
     "data": {
      "text/plain": [
       "3×9 Matrix{Float64}:\n",
       " 0.146231  0.864381  0.303197  0.201586    …  0.915054  0.324804   0.34304\n",
       " 0.478043  0.248756  0.869934  0.00384605     0.437162  0.0466071  0.788221\n",
       " 0.504597  0.421195  0.89619   0.992449       0.976519  0.946167   0.0516434"
      ]
     },
     "metadata": {},
     "output_type": "display_data"
    },
    {
     "data": {
      "text/plain": [
       "3×9 Matrix{Float64}:\n",
       " 0.146231  0.864381  0.303197  0.478043    …  0.504597  0.421195   0.89619\n",
       " 0.201586  0.463168  0.827692  0.00384605     0.992449  0.0429554  0.647163\n",
       " 0.915054  0.324804  0.34304   0.437162       0.976519  0.946167   0.0516434"
      ]
     },
     "metadata": {},
     "output_type": "display_data"
    },
    {
     "data": {
      "text/plain": [
       "2-element Vector{Any}:\n",
       " [-0.5405567880205514, -0.49174420221860066, -0.6826316711882743]\n",
       " [-0.5664447721101489, -0.5745225107693719, -0.5908165576287947]"
      ]
     },
     "metadata": {},
     "output_type": "display_data"
    },
    {
     "data": {
      "text/plain": [
       "3×9 Matrix{Float64}:\n",
       " 0.146231  0.864381  0.303197  0.201586    …  0.915054  0.324804   0.34304\n",
       " 0.478043  0.248756  0.869934  0.00384605     0.437162  0.0466071  0.788221\n",
       " 0.504597  0.421195  0.89619   0.992449       0.976519  0.946167   0.0516434"
      ]
     },
     "metadata": {},
     "output_type": "display_data"
    },
    {
     "data": {
      "text/plain": [
       "3×9 Matrix{Float64}:\n",
       " 0.146231  0.864381  0.303197  0.478043    …  0.504597  0.421195   0.89619\n",
       " 0.201586  0.463168  0.827692  0.00384605     0.992449  0.0429554  0.647163\n",
       " 0.915054  0.324804  0.34304   0.437162       0.976519  0.946167   0.0516434"
      ]
     },
     "metadata": {},
     "output_type": "display_data"
    },
    {
     "name": "stdout",
     "output_type": "stream",
     "text": [
      "Initialization\n"
     ]
    },
    {
     "ename": "UndefVarError",
     "evalue": "UndefVarError: `outer` not defined",
     "output_type": "error",
     "traceback": [
      "UndefVarError: `outer` not defined\n",
      "\n",
      "Stacktrace:\n",
      " [1] compute_tensor_product(vectors::Vector{Any})\n",
      "   @ Main ~/Desktop/Masterproef /Julia codes/Tensor rank-one approximation.ipynb:81\n",
      " [2] compute_rank_one_approximation(Tensor::Tensor{Float64, 3, Array{Float64, 3}}, eps::Float64, max_iter::Int64)\n",
      "   @ Main ~/Desktop/Masterproef /Julia codes/Tensor rank-one approximation.ipynb:108\n",
      " [3] top-level scope\n",
      "   @ ~/Desktop/Masterproef /Julia codes/Tensor rank-one approximation.ipynb:145"
     ]
    }
   ],
   "source": [
    "test = Tenet.Tensor(rand(3,3,3), (Symbol(\"i\"), Symbol(\"j\"), Symbol(\"k\")))\n",
    "\n",
    "function matricisation_fold(Tensor, index)\n",
    "\n",
    "\n",
    "    #TODO unfolding aanpassen aan definitie paper\n",
    "\n",
    "    \"\"\"\n",
    "    Function takes in a Tenet.Tensor and computes its folded version.\n",
    "    i.e. A Matricization such that the Tensor is restructured as A{index}{prod all indices} with a new symbol as the concatenated string of all indices\n",
    "    \"\"\" \n",
    "\n",
    "    # Compute the dimension of the new bond -> this new bond has the size of the product of the grouped dimensions\n",
    "\n",
    "    indices = inds(Tensor) # all indices of the Tensor\n",
    "    to_group = setdiff(inds(Tensor), [index])\n",
    "    dim_new = prod(size(Tensor, index) for index in to_group) # compute the dimension of the new grouped bond\n",
    "    \n",
    "    # generate a permutation order of indices which puts the to group indices in the end\n",
    "    # by reshaping the underlying data array -> (dim(complementind_T1)..., dim_new) the correct parts of the data array are grouped\n",
    "\n",
    "    new_order = [[index]..., to_group...] # indices to keep at front\n",
    "\n",
    "    # Permute the dimensions based on the new order\n",
    "    permuted_tensor = permutedims(Tensor, new_order)\n",
    "\n",
    "    # extract the permuted tensor data to be reshaped\n",
    "    new_tensor_data_array = permuted_tensor.data\n",
    "\n",
    "    # perform the reshaping and create new tensors with grouped index\n",
    "    new_index = join([string(ix) for ix in to_group], \"\")\n",
    "\n",
    "    # create reshape lists -> casted to tuple for the reshape function\n",
    "    # reshape lists are based on sizes of the underlying data arrays\n",
    "    # vcat vertically concatenates two arrays\n",
    "\n",
    "    tensor_reshape_list = vcat([size(Tensor, index)], dim_new)\n",
    "\n",
    "    # Create the new tensors based on the the reshaped data array and on a tuple containing the untouched indices and the newly grouped index\n",
    "\n",
    "    tensor_new = Tenet.Tensor(reshape(new_tensor_data_array, tensor_reshape_list...), ([index]..., Symbol(new_index)))\n",
    "\n",
    "    return tensor_new\n",
    "\n",
    "end\n",
    "\n",
    "function extract_dominant_left_singular_vector(M)\n",
    "    \"\"\"\n",
    "    Input is a matrix M and output is the dominant left singular vector. This is the vector corresponding to biggest singular value.\n",
    "    \"\"\"\n",
    "    U, s, Vt = LinearAlgebra.svd(M)\n",
    "    return U[:, 1]\n",
    "\n",
    "end\n",
    "\n",
    "function extract_initial_vectors(Tensor)\n",
    "    initial_vectors = []\n",
    "    indices = inds(Tensor)\n",
    "    for index in indices[2:end]\n",
    "        folded = matricisation_fold(Tensor, index)\n",
    "        display(folded.data)\n",
    "        push!(initial_vectors, extract_dominant_left_singular_vector((folded).data))\n",
    "    end\n",
    "    return initial_vectors \n",
    "end\n",
    "\n",
    "display(extract_initial_vectors(test))\n",
    "\n",
    "function compute_tensor_product(vectors)\n",
    "\n",
    "    \"\"\"\n",
    "    Helper product to compute the Kronecker product for a list of vectors\n",
    "    \"\"\"\n",
    "\n",
    "    num_vectors = length(vectors)\n",
    "\n",
    "    # Check if there are at least two vectors for the tensor product\n",
    "    @assert num_vectors >= 2\n",
    "\n",
    "    # Initialize the result with the tensor product of the first two vectors\n",
    "    result = outer(vectors[1], vectors[2])\n",
    "\n",
    "    # Compute the tensor product with the remaining vectors\n",
    "    for i in 3:num_vectors\n",
    "        result = outer(result, vectors[i])\n",
    "    end\n",
    "\n",
    "    return result\n",
    "end\n",
    "\n",
    "\n",
    "function compute_rank_one_approximation(Tensor, eps, max_iter)\n",
    "    optimized_output_vectors = []\n",
    "    indices = inds(Tensor)\n",
    "    start_vectors = extract_initial_vectors(Tensor)\n",
    "\n",
    "    U_old = nothing  # Initialize U_old and lambda_old\n",
    "    lambda_old = nothing\n",
    "    U_new = nothing   # Initialize U_new and lambda_new\n",
    "    lambda_new = nothing\n",
    "\n",
    "    for (i, index) in enumerate(indices)\n",
    "        A_i_fold = matricisation_fold(Tensor, index).data\n",
    "\n",
    "        for step in 1:max_iter\n",
    "            if i == 1 && step == 1\n",
    "                println(\"Initialization\")\n",
    "                U_old = compute_tensor_product(start_vectors)\n",
    "                lambda_old = LinearAlgebra.norm(U_old)\n",
    "            end\n",
    "\n",
    "            if i > 1\n",
    "                println(\"Computing tensor product without vector i\")\n",
    "                U_old = compute_tensor_product([optimized_output_vectors..., start_vectors[i+1:end]...])\n",
    "            end\n",
    "\n",
    "            if step > 1\n",
    "                U_old = U_new  # Initialize U_old for the next iteration\n",
    "                lambda_old = lambda_new\n",
    "            end\n",
    "            println(size(A_i_fold), size(U_old))\n",
    "            U_new = A_i_fold * U_old\n",
    "            lambda_new = LinearAlgebra.norm(U_new)\n",
    "            U_new = U_new / lambda_new\n",
    "            error = abs(lambda_new - lambda_old)\n",
    "\n",
    "            if error < eps\n",
    "                push!(optimized_output_vectors, U_new)\n",
    "                break\n",
    "            end\n",
    "\n",
    "            if step == max_iter\n",
    "                push!(optimized_output_vectors, U_new)\n",
    "                break\n",
    "            end\n",
    "        end\n",
    "    end\n",
    "\n",
    "    U_final = compute_tensor_product(optimized_output_vectors)\n",
    "    lambda_final = Tensor.data' * U_final  # Assuming you want to perform matrix-vector multiplication\n",
    "\n",
    "    return (optimized_output_vectors, lambda_final)\n",
    "end\n",
    "\n",
    "compute_rank_one_approximation(test, 1e-5, 100)\n",
    "\n",
    "compute_rank_one_approximation(test, 1e-5, 100)\n",
    "\n"
   ]
  }
 ],
 "metadata": {
  "kernelspec": {
   "display_name": "Julia 1.9.3",
   "language": "julia",
   "name": "julia-1.9"
  },
  "language_info": {
   "file_extension": ".jl",
   "mimetype": "application/julia",
   "name": "julia",
   "version": "1.9.3"
  }
 },
 "nbformat": 4,
 "nbformat_minor": 2
}
