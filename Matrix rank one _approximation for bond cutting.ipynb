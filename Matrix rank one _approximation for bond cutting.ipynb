{
 "cells": [
  {
   "cell_type": "markdown",
   "metadata": {},
   "source": [
    "In this notebook an implementation of bond cutting will be made to act on a tensor network based on the R_AB bond compression factor. Performing truncated SVD leads to the optimal rank 1 approximation in this sense."
   ]
  },
  {
   "cell_type": "code",
   "execution_count": null,
   "metadata": {},
   "outputs": [],
   "source": [
    "function cut_bond\n",
    "    \"\"\"\n",
    "    Function which takes in a Tenet.TensorNetwork and an edge of Tenet.TensorNetwork,\n",
    "    Then cuts the bond on this edge by performing rank 1 truncated SVD on the R_ab of the bond and absorbs the u1 and v1 tensors in the nodes.\n",
    "    Lastly, the function returns the modified Tenet.TensorNetwork.\n",
    "    \"\"\"\n",
    "\n",
    "\n",
    "\n"
   ]
  }
 ],
 "metadata": {
  "kernelspec": {
   "display_name": "Julia 1.9.3",
   "language": "julia",
   "name": "julia-1.9"
  },
  "language_info": {
   "file_extension": ".jl",
   "mimetype": "application/julia",
   "name": "julia",
   "version": "1.9.3"
  }
 },
 "nbformat": 4,
 "nbformat_minor": 2
}
