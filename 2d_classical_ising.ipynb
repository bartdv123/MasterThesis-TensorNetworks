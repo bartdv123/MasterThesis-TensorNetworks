{
 "cells": [
  {
   "cell_type": "code",
   "execution_count": 2,
   "metadata": {},
   "outputs": [
    {
     "data": {
      "text/plain": [
       "true"
      ]
     },
     "metadata": {},
     "output_type": "display_data"
    }
   ],
   "source": [
    "#Adding the needed depedencies to the notebook\n",
    "\n",
    "using GLMakie\n",
    "using Tenet\n",
    "using EinExprs\n",
    "Makie.inline!(true)"
   ]
  },
  {
   "cell_type": "code",
   "execution_count": 8,
   "metadata": {},
   "outputs": [
    {
     "data": {
      "text/plain": [
       "3×5×2 Tensor{Float64, 3, Array{Float64, 3}}:\n",
       "[:, :, 1] =\n",
       " 0.289619  0.62159   0.0113983  0.8598    0.157441\n",
       " 0.264992  0.632596  0.301568   0.45586   0.47664\n",
       " 0.807404  0.161537  0.811565   0.874937  0.665877\n",
       "\n",
       "[:, :, 2] =\n",
       " 0.0756439  0.14166   0.272974  0.639198   0.740526\n",
       " 0.730378   0.486303  0.406852  0.790525   0.627674\n",
       " 0.0274827  0.376236  0.691732  0.0833684  0.473674"
      ]
     },
     "metadata": {},
     "output_type": "display_data"
    }
   ],
   "source": [
    "Tᵢⱼₖ = Tensor(rand(3,5,2), (:i,:j,:k))"
   ]
  },
  {
   "cell_type": "code",
   "execution_count": 22,
   "metadata": {},
   "outputs": [],
   "source": [
    "#Defining the different tensors for the 2d-ising model\n",
    "beta = 1 #inverse temperature\n",
    "J = 0\n",
    "\n",
    "# construct edge tensors\n",
    "\n",
    "matrix = [exp(beta*J) exp(-beta*J)\n",
    "    exp(-beta*J) exp(beta*J)]\n",
    "t = Tensor(matrix, (:i,:j))\n",
    "q = sqrt(t)\n",
    "\n",
    "# construct vertex tensors\n",
    "\n",
    "vertex = Tensor(zeros(4,4,4,4), (:i,:j,:k,:l))\n",
    "for ix in range(1,4)\n",
    "    vertex[ix,ix,ix,ix] = 1\n",
    "end\n",
    "\n",
    "# absorb edge tensors\n",
    "\n",
    "\n"
   ]
  },
  {
   "cell_type": "code",
   "execution_count": 4,
   "metadata": {},
   "outputs": [],
   "source": []
  },
  {
   "cell_type": "code",
   "execution_count": 5,
   "metadata": {},
   "outputs": [],
   "source": []
  },
  {
   "cell_type": "code",
   "execution_count": 6,
   "metadata": {},
   "outputs": [],
   "source": []
  }
 ],
 "metadata": {
  "kernelspec": {
   "display_name": "Julia 1.9.3",
   "language": "julia",
   "name": "julia-1.9"
  },
  "language_info": {
   "file_extension": ".jl",
   "mimetype": "application/julia",
   "name": "julia",
   "version": "1.9.3"
  }
 },
 "nbformat": 4,
 "nbformat_minor": 2
}
